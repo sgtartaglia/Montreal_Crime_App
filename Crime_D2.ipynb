{
 "cells": [
  {
   "cell_type": "code",
   "execution_count": 54,
   "source": [
    "import pandas as pd\n",
    "import re\n",
    "import plotly as plt\n",
    "\n",
    "import requests\n",
    "## import and clean crime data\n",
    "df_crime = pd.read_csv('interventionscitoyendo.csv',encoding = \"ISO-8859-1\")\n",
    "df_crime.head()\n",
    "df_crime_modified = df_crime.copy()\n",
    "df_crime_modified.columns = df_crime_modified.columns.str.lower()\n",
    "df_crime_modified.head()\n",
    "df_crime_modified.describe()\n",
    "df_crime_modified.longitude = df_crime_modified.longitude.astype(str)\n",
    "df_crime_modified.latitude = df_crime_modified.latitude.astype(str)\n",
    "df_crime_modified.longitude\n",
    "df_crime_modified.longitude = df_crime_modified.longitude.str.slice(0,7)\n",
    "df_crime_modified.latitude = df_crime_modified.latitude.str.slice(0,6)\n",
    "df_crime_modified['long lat'] = df_crime_modified.longitude.astype(str) + ', '+ df_crime_modified.latitude.astype(str)\n",
    "df_crime_modified.head()\n",
    "df_crime_modified.loc[df_crime_modified['latitude'] == '1.0']\n",
    "\n",
    "## import coordinadte data \n",
    "df_corr = pd.read_csv('CanadianPostalCodes202108.csv')\n",
    "df_corr.head()\n",
    "df_corr.LONGITUDE = df_corr.LONGITUDE.astype(str)\n",
    "df_corr.LATITUDE = df_corr.LATITUDE.astype(str)\n",
    "df_corr.LONGITUDE = df_corr.LONGITUDE.str.slice(0,7)\n",
    "df_corr.LATITUDE = df_corr.LATITUDE.str.slice(0,6)\n",
    "df_corr['long lat'] = df_corr.LONGITUDE + ', ' + df_corr.LATITUDE\n",
    "df_corr_dropped = df_corr.drop_duplicates(subset='long lat')\n",
    "\n",
    "df_corr_dropped\n",
    "## Merge Data from crime data and postal code data\n",
    "df_merged = pd.merge(left = df_crime_modified, right=df_corr_dropped, how='left', left_on=['long lat'], right_on=['long lat'])\n",
    "df_merged\n",
    "\n",
    "df_merged\n",
    "df_merged.describe()\n",
    "df_merged\n",
    "df_merged.drop(columns=['PROVINCE_ABBR','TIME_ZONE','LATITUDE','LONGITUDE','x','y','longitude','latitude','pdq'], inplace = True)\n",
    "df_merged.head()\n",
    "df_merged.describe()\n",
    "df_merged['postal'] = df_merged.POSTAL_CODE.str.slice(0,3)\n",
    "df_merged\n",
    "## Import borough postal code data\n",
    "df_postal = pd.read_csv('Montreal Postal Codes.csv')\n",
    "df_postal.head()\n",
    "df_final = pd.merge(left=df_merged, right= df_postal, left_on='postal', right_on='postal codes')\n",
    "\n",
    "df_final.head()\n",
    "df_final['borough'].value_counts().reset_index().to_csv('incidents per b.csv')\n",
    "df_final.columns = df_final.columns.str.lower()\n",
    "df_final.drop(columns=['postal'], inplace=True)\n",
    "df_final.head()"
   ],
   "outputs": [
    {
     "output_type": "execute_result",
     "data": {
      "text/plain": [
       "                  categorie        date quart         long lat postal_code  \\\n",
       "0  Vol de véhicule à moteur  2018-09-13  jour  -73.626, 45.567     H1Z 1S9   \n",
       "1  Vol de véhicule à moteur  2018-04-30  jour  -73.626, 45.567     H1Z 1S9   \n",
       "2              Introduction  2018-01-10  jour  -73.629, 45.569     H1Z 2V6   \n",
       "3                    Méfait  2018-11-12  soir  -73.629, 45.569     H1Z 2V6   \n",
       "4                    Méfait  2018-08-15  jour  -73.629, 45.569     H1Z 2V6   \n",
       "\n",
       "       city postal codes           borough  \n",
       "0  MONTREAL          H1Z  Saint-MichelWest  \n",
       "1  MONTREAL          H1Z  Saint-MichelWest  \n",
       "2  MONTREAL          H1Z  Saint-MichelWest  \n",
       "3  MONTREAL          H1Z  Saint-MichelWest  \n",
       "4  MONTREAL          H1Z  Saint-MichelWest  "
      ],
      "text/html": [
       "<div>\n",
       "<style scoped>\n",
       "    .dataframe tbody tr th:only-of-type {\n",
       "        vertical-align: middle;\n",
       "    }\n",
       "\n",
       "    .dataframe tbody tr th {\n",
       "        vertical-align: top;\n",
       "    }\n",
       "\n",
       "    .dataframe thead th {\n",
       "        text-align: right;\n",
       "    }\n",
       "</style>\n",
       "<table border=\"1\" class=\"dataframe\">\n",
       "  <thead>\n",
       "    <tr style=\"text-align: right;\">\n",
       "      <th></th>\n",
       "      <th>categorie</th>\n",
       "      <th>date</th>\n",
       "      <th>quart</th>\n",
       "      <th>long lat</th>\n",
       "      <th>postal_code</th>\n",
       "      <th>city</th>\n",
       "      <th>postal codes</th>\n",
       "      <th>borough</th>\n",
       "    </tr>\n",
       "  </thead>\n",
       "  <tbody>\n",
       "    <tr>\n",
       "      <th>0</th>\n",
       "      <td>Vol de véhicule à moteur</td>\n",
       "      <td>2018-09-13</td>\n",
       "      <td>jour</td>\n",
       "      <td>-73.626, 45.567</td>\n",
       "      <td>H1Z 1S9</td>\n",
       "      <td>MONTREAL</td>\n",
       "      <td>H1Z</td>\n",
       "      <td>Saint-MichelWest</td>\n",
       "    </tr>\n",
       "    <tr>\n",
       "      <th>1</th>\n",
       "      <td>Vol de véhicule à moteur</td>\n",
       "      <td>2018-04-30</td>\n",
       "      <td>jour</td>\n",
       "      <td>-73.626, 45.567</td>\n",
       "      <td>H1Z 1S9</td>\n",
       "      <td>MONTREAL</td>\n",
       "      <td>H1Z</td>\n",
       "      <td>Saint-MichelWest</td>\n",
       "    </tr>\n",
       "    <tr>\n",
       "      <th>2</th>\n",
       "      <td>Introduction</td>\n",
       "      <td>2018-01-10</td>\n",
       "      <td>jour</td>\n",
       "      <td>-73.629, 45.569</td>\n",
       "      <td>H1Z 2V6</td>\n",
       "      <td>MONTREAL</td>\n",
       "      <td>H1Z</td>\n",
       "      <td>Saint-MichelWest</td>\n",
       "    </tr>\n",
       "    <tr>\n",
       "      <th>3</th>\n",
       "      <td>Méfait</td>\n",
       "      <td>2018-11-12</td>\n",
       "      <td>soir</td>\n",
       "      <td>-73.629, 45.569</td>\n",
       "      <td>H1Z 2V6</td>\n",
       "      <td>MONTREAL</td>\n",
       "      <td>H1Z</td>\n",
       "      <td>Saint-MichelWest</td>\n",
       "    </tr>\n",
       "    <tr>\n",
       "      <th>4</th>\n",
       "      <td>Méfait</td>\n",
       "      <td>2018-08-15</td>\n",
       "      <td>jour</td>\n",
       "      <td>-73.629, 45.569</td>\n",
       "      <td>H1Z 2V6</td>\n",
       "      <td>MONTREAL</td>\n",
       "      <td>H1Z</td>\n",
       "      <td>Saint-MichelWest</td>\n",
       "    </tr>\n",
       "  </tbody>\n",
       "</table>\n",
       "</div>"
      ]
     },
     "metadata": {},
     "execution_count": 54
    }
   ],
   "metadata": {}
  },
  {
   "cell_type": "code",
   "execution_count": 55,
   "source": [
    "df_final['borough1']= [i for i in df_final['borough'].str.split(r'(?<=[a-z])(?=[A-Z])')]\n",
    "df_final"
   ],
   "outputs": [
    {
     "output_type": "execute_result",
     "data": {
      "text/plain": [
       "                       categorie        date quart         long lat  \\\n",
       "0       Vol de véhicule à moteur  2018-09-13  jour  -73.626, 45.567   \n",
       "1       Vol de véhicule à moteur  2018-04-30  jour  -73.626, 45.567   \n",
       "2                   Introduction  2018-01-10  jour  -73.629, 45.569   \n",
       "3                         Méfait  2018-11-12  soir  -73.629, 45.569   \n",
       "4                         Méfait  2018-08-15  jour  -73.629, 45.569   \n",
       "...                          ...         ...   ...              ...   \n",
       "136108  Vol de véhicule à moteur  2020-03-25  jour  -73.752, 45.452   \n",
       "136109  Vol de véhicule à moteur  2020-03-27  soir  -73.752, 45.452   \n",
       "136110                    Méfait  2021-04-01  nuit  -73.752, 45.452   \n",
       "136111              Introduction  2021-06-06  soir  -73.752, 45.452   \n",
       "136112                    Méfait  2021-06-22  jour  -73.752, 45.452   \n",
       "\n",
       "       postal_code      city postal codes              borough  \\\n",
       "0          H1Z 1S9  MONTREAL          H1Z     Saint-MichelWest   \n",
       "1          H1Z 1S9  MONTREAL          H1Z     Saint-MichelWest   \n",
       "2          H1Z 2V6  MONTREAL          H1Z     Saint-MichelWest   \n",
       "3          H1Z 2V6  MONTREAL          H1Z     Saint-MichelWest   \n",
       "4          H1Z 2V6  MONTREAL          H1Z     Saint-MichelWest   \n",
       "...            ...       ...          ...                  ...   \n",
       "136108     H4Y 1G6    DORVAL          H4Y  DorvalCentral (YUL)   \n",
       "136109     H4Y 1G6    DORVAL          H4Y  DorvalCentral (YUL)   \n",
       "136110     H4Y 1G6    DORVAL          H4Y  DorvalCentral (YUL)   \n",
       "136111     H4Y 1G6    DORVAL          H4Y  DorvalCentral (YUL)   \n",
       "136112     H4Y 1G6    DORVAL          H4Y  DorvalCentral (YUL)   \n",
       "\n",
       "                       borough1  \n",
       "0          [Saint-Michel, West]  \n",
       "1          [Saint-Michel, West]  \n",
       "2          [Saint-Michel, West]  \n",
       "3          [Saint-Michel, West]  \n",
       "4          [Saint-Michel, West]  \n",
       "...                         ...  \n",
       "136108  [Dorval, Central (YUL)]  \n",
       "136109  [Dorval, Central (YUL)]  \n",
       "136110  [Dorval, Central (YUL)]  \n",
       "136111  [Dorval, Central (YUL)]  \n",
       "136112  [Dorval, Central (YUL)]  \n",
       "\n",
       "[136113 rows x 9 columns]"
      ],
      "text/html": [
       "<div>\n",
       "<style scoped>\n",
       "    .dataframe tbody tr th:only-of-type {\n",
       "        vertical-align: middle;\n",
       "    }\n",
       "\n",
       "    .dataframe tbody tr th {\n",
       "        vertical-align: top;\n",
       "    }\n",
       "\n",
       "    .dataframe thead th {\n",
       "        text-align: right;\n",
       "    }\n",
       "</style>\n",
       "<table border=\"1\" class=\"dataframe\">\n",
       "  <thead>\n",
       "    <tr style=\"text-align: right;\">\n",
       "      <th></th>\n",
       "      <th>categorie</th>\n",
       "      <th>date</th>\n",
       "      <th>quart</th>\n",
       "      <th>long lat</th>\n",
       "      <th>postal_code</th>\n",
       "      <th>city</th>\n",
       "      <th>postal codes</th>\n",
       "      <th>borough</th>\n",
       "      <th>borough1</th>\n",
       "    </tr>\n",
       "  </thead>\n",
       "  <tbody>\n",
       "    <tr>\n",
       "      <th>0</th>\n",
       "      <td>Vol de véhicule à moteur</td>\n",
       "      <td>2018-09-13</td>\n",
       "      <td>jour</td>\n",
       "      <td>-73.626, 45.567</td>\n",
       "      <td>H1Z 1S9</td>\n",
       "      <td>MONTREAL</td>\n",
       "      <td>H1Z</td>\n",
       "      <td>Saint-MichelWest</td>\n",
       "      <td>[Saint-Michel, West]</td>\n",
       "    </tr>\n",
       "    <tr>\n",
       "      <th>1</th>\n",
       "      <td>Vol de véhicule à moteur</td>\n",
       "      <td>2018-04-30</td>\n",
       "      <td>jour</td>\n",
       "      <td>-73.626, 45.567</td>\n",
       "      <td>H1Z 1S9</td>\n",
       "      <td>MONTREAL</td>\n",
       "      <td>H1Z</td>\n",
       "      <td>Saint-MichelWest</td>\n",
       "      <td>[Saint-Michel, West]</td>\n",
       "    </tr>\n",
       "    <tr>\n",
       "      <th>2</th>\n",
       "      <td>Introduction</td>\n",
       "      <td>2018-01-10</td>\n",
       "      <td>jour</td>\n",
       "      <td>-73.629, 45.569</td>\n",
       "      <td>H1Z 2V6</td>\n",
       "      <td>MONTREAL</td>\n",
       "      <td>H1Z</td>\n",
       "      <td>Saint-MichelWest</td>\n",
       "      <td>[Saint-Michel, West]</td>\n",
       "    </tr>\n",
       "    <tr>\n",
       "      <th>3</th>\n",
       "      <td>Méfait</td>\n",
       "      <td>2018-11-12</td>\n",
       "      <td>soir</td>\n",
       "      <td>-73.629, 45.569</td>\n",
       "      <td>H1Z 2V6</td>\n",
       "      <td>MONTREAL</td>\n",
       "      <td>H1Z</td>\n",
       "      <td>Saint-MichelWest</td>\n",
       "      <td>[Saint-Michel, West]</td>\n",
       "    </tr>\n",
       "    <tr>\n",
       "      <th>4</th>\n",
       "      <td>Méfait</td>\n",
       "      <td>2018-08-15</td>\n",
       "      <td>jour</td>\n",
       "      <td>-73.629, 45.569</td>\n",
       "      <td>H1Z 2V6</td>\n",
       "      <td>MONTREAL</td>\n",
       "      <td>H1Z</td>\n",
       "      <td>Saint-MichelWest</td>\n",
       "      <td>[Saint-Michel, West]</td>\n",
       "    </tr>\n",
       "    <tr>\n",
       "      <th>...</th>\n",
       "      <td>...</td>\n",
       "      <td>...</td>\n",
       "      <td>...</td>\n",
       "      <td>...</td>\n",
       "      <td>...</td>\n",
       "      <td>...</td>\n",
       "      <td>...</td>\n",
       "      <td>...</td>\n",
       "      <td>...</td>\n",
       "    </tr>\n",
       "    <tr>\n",
       "      <th>136108</th>\n",
       "      <td>Vol de véhicule à moteur</td>\n",
       "      <td>2020-03-25</td>\n",
       "      <td>jour</td>\n",
       "      <td>-73.752, 45.452</td>\n",
       "      <td>H4Y 1G6</td>\n",
       "      <td>DORVAL</td>\n",
       "      <td>H4Y</td>\n",
       "      <td>DorvalCentral (YUL)</td>\n",
       "      <td>[Dorval, Central (YUL)]</td>\n",
       "    </tr>\n",
       "    <tr>\n",
       "      <th>136109</th>\n",
       "      <td>Vol de véhicule à moteur</td>\n",
       "      <td>2020-03-27</td>\n",
       "      <td>soir</td>\n",
       "      <td>-73.752, 45.452</td>\n",
       "      <td>H4Y 1G6</td>\n",
       "      <td>DORVAL</td>\n",
       "      <td>H4Y</td>\n",
       "      <td>DorvalCentral (YUL)</td>\n",
       "      <td>[Dorval, Central (YUL)]</td>\n",
       "    </tr>\n",
       "    <tr>\n",
       "      <th>136110</th>\n",
       "      <td>Méfait</td>\n",
       "      <td>2021-04-01</td>\n",
       "      <td>nuit</td>\n",
       "      <td>-73.752, 45.452</td>\n",
       "      <td>H4Y 1G6</td>\n",
       "      <td>DORVAL</td>\n",
       "      <td>H4Y</td>\n",
       "      <td>DorvalCentral (YUL)</td>\n",
       "      <td>[Dorval, Central (YUL)]</td>\n",
       "    </tr>\n",
       "    <tr>\n",
       "      <th>136111</th>\n",
       "      <td>Introduction</td>\n",
       "      <td>2021-06-06</td>\n",
       "      <td>soir</td>\n",
       "      <td>-73.752, 45.452</td>\n",
       "      <td>H4Y 1G6</td>\n",
       "      <td>DORVAL</td>\n",
       "      <td>H4Y</td>\n",
       "      <td>DorvalCentral (YUL)</td>\n",
       "      <td>[Dorval, Central (YUL)]</td>\n",
       "    </tr>\n",
       "    <tr>\n",
       "      <th>136112</th>\n",
       "      <td>Méfait</td>\n",
       "      <td>2021-06-22</td>\n",
       "      <td>jour</td>\n",
       "      <td>-73.752, 45.452</td>\n",
       "      <td>H4Y 1G6</td>\n",
       "      <td>DORVAL</td>\n",
       "      <td>H4Y</td>\n",
       "      <td>DorvalCentral (YUL)</td>\n",
       "      <td>[Dorval, Central (YUL)]</td>\n",
       "    </tr>\n",
       "  </tbody>\n",
       "</table>\n",
       "<p>136113 rows × 9 columns</p>\n",
       "</div>"
      ]
     },
     "metadata": {},
     "execution_count": 55
    }
   ],
   "metadata": {}
  },
  {
   "cell_type": "code",
   "execution_count": 56,
   "source": [
    "df_final['neighbourhood'] = df_final['borough1'].map(lambda x: x[0])\n",
    "df_final"
   ],
   "outputs": [
    {
     "output_type": "execute_result",
     "data": {
      "text/plain": [
       "                       categorie        date quart         long lat  \\\n",
       "0       Vol de véhicule à moteur  2018-09-13  jour  -73.626, 45.567   \n",
       "1       Vol de véhicule à moteur  2018-04-30  jour  -73.626, 45.567   \n",
       "2                   Introduction  2018-01-10  jour  -73.629, 45.569   \n",
       "3                         Méfait  2018-11-12  soir  -73.629, 45.569   \n",
       "4                         Méfait  2018-08-15  jour  -73.629, 45.569   \n",
       "...                          ...         ...   ...              ...   \n",
       "136108  Vol de véhicule à moteur  2020-03-25  jour  -73.752, 45.452   \n",
       "136109  Vol de véhicule à moteur  2020-03-27  soir  -73.752, 45.452   \n",
       "136110                    Méfait  2021-04-01  nuit  -73.752, 45.452   \n",
       "136111              Introduction  2021-06-06  soir  -73.752, 45.452   \n",
       "136112                    Méfait  2021-06-22  jour  -73.752, 45.452   \n",
       "\n",
       "       postal_code      city postal codes              borough  \\\n",
       "0          H1Z 1S9  MONTREAL          H1Z     Saint-MichelWest   \n",
       "1          H1Z 1S9  MONTREAL          H1Z     Saint-MichelWest   \n",
       "2          H1Z 2V6  MONTREAL          H1Z     Saint-MichelWest   \n",
       "3          H1Z 2V6  MONTREAL          H1Z     Saint-MichelWest   \n",
       "4          H1Z 2V6  MONTREAL          H1Z     Saint-MichelWest   \n",
       "...            ...       ...          ...                  ...   \n",
       "136108     H4Y 1G6    DORVAL          H4Y  DorvalCentral (YUL)   \n",
       "136109     H4Y 1G6    DORVAL          H4Y  DorvalCentral (YUL)   \n",
       "136110     H4Y 1G6    DORVAL          H4Y  DorvalCentral (YUL)   \n",
       "136111     H4Y 1G6    DORVAL          H4Y  DorvalCentral (YUL)   \n",
       "136112     H4Y 1G6    DORVAL          H4Y  DorvalCentral (YUL)   \n",
       "\n",
       "                       borough1 neighbourhood  \n",
       "0          [Saint-Michel, West]  Saint-Michel  \n",
       "1          [Saint-Michel, West]  Saint-Michel  \n",
       "2          [Saint-Michel, West]  Saint-Michel  \n",
       "3          [Saint-Michel, West]  Saint-Michel  \n",
       "4          [Saint-Michel, West]  Saint-Michel  \n",
       "...                         ...           ...  \n",
       "136108  [Dorval, Central (YUL)]        Dorval  \n",
       "136109  [Dorval, Central (YUL)]        Dorval  \n",
       "136110  [Dorval, Central (YUL)]        Dorval  \n",
       "136111  [Dorval, Central (YUL)]        Dorval  \n",
       "136112  [Dorval, Central (YUL)]        Dorval  \n",
       "\n",
       "[136113 rows x 10 columns]"
      ],
      "text/html": [
       "<div>\n",
       "<style scoped>\n",
       "    .dataframe tbody tr th:only-of-type {\n",
       "        vertical-align: middle;\n",
       "    }\n",
       "\n",
       "    .dataframe tbody tr th {\n",
       "        vertical-align: top;\n",
       "    }\n",
       "\n",
       "    .dataframe thead th {\n",
       "        text-align: right;\n",
       "    }\n",
       "</style>\n",
       "<table border=\"1\" class=\"dataframe\">\n",
       "  <thead>\n",
       "    <tr style=\"text-align: right;\">\n",
       "      <th></th>\n",
       "      <th>categorie</th>\n",
       "      <th>date</th>\n",
       "      <th>quart</th>\n",
       "      <th>long lat</th>\n",
       "      <th>postal_code</th>\n",
       "      <th>city</th>\n",
       "      <th>postal codes</th>\n",
       "      <th>borough</th>\n",
       "      <th>borough1</th>\n",
       "      <th>neighbourhood</th>\n",
       "    </tr>\n",
       "  </thead>\n",
       "  <tbody>\n",
       "    <tr>\n",
       "      <th>0</th>\n",
       "      <td>Vol de véhicule à moteur</td>\n",
       "      <td>2018-09-13</td>\n",
       "      <td>jour</td>\n",
       "      <td>-73.626, 45.567</td>\n",
       "      <td>H1Z 1S9</td>\n",
       "      <td>MONTREAL</td>\n",
       "      <td>H1Z</td>\n",
       "      <td>Saint-MichelWest</td>\n",
       "      <td>[Saint-Michel, West]</td>\n",
       "      <td>Saint-Michel</td>\n",
       "    </tr>\n",
       "    <tr>\n",
       "      <th>1</th>\n",
       "      <td>Vol de véhicule à moteur</td>\n",
       "      <td>2018-04-30</td>\n",
       "      <td>jour</td>\n",
       "      <td>-73.626, 45.567</td>\n",
       "      <td>H1Z 1S9</td>\n",
       "      <td>MONTREAL</td>\n",
       "      <td>H1Z</td>\n",
       "      <td>Saint-MichelWest</td>\n",
       "      <td>[Saint-Michel, West]</td>\n",
       "      <td>Saint-Michel</td>\n",
       "    </tr>\n",
       "    <tr>\n",
       "      <th>2</th>\n",
       "      <td>Introduction</td>\n",
       "      <td>2018-01-10</td>\n",
       "      <td>jour</td>\n",
       "      <td>-73.629, 45.569</td>\n",
       "      <td>H1Z 2V6</td>\n",
       "      <td>MONTREAL</td>\n",
       "      <td>H1Z</td>\n",
       "      <td>Saint-MichelWest</td>\n",
       "      <td>[Saint-Michel, West]</td>\n",
       "      <td>Saint-Michel</td>\n",
       "    </tr>\n",
       "    <tr>\n",
       "      <th>3</th>\n",
       "      <td>Méfait</td>\n",
       "      <td>2018-11-12</td>\n",
       "      <td>soir</td>\n",
       "      <td>-73.629, 45.569</td>\n",
       "      <td>H1Z 2V6</td>\n",
       "      <td>MONTREAL</td>\n",
       "      <td>H1Z</td>\n",
       "      <td>Saint-MichelWest</td>\n",
       "      <td>[Saint-Michel, West]</td>\n",
       "      <td>Saint-Michel</td>\n",
       "    </tr>\n",
       "    <tr>\n",
       "      <th>4</th>\n",
       "      <td>Méfait</td>\n",
       "      <td>2018-08-15</td>\n",
       "      <td>jour</td>\n",
       "      <td>-73.629, 45.569</td>\n",
       "      <td>H1Z 2V6</td>\n",
       "      <td>MONTREAL</td>\n",
       "      <td>H1Z</td>\n",
       "      <td>Saint-MichelWest</td>\n",
       "      <td>[Saint-Michel, West]</td>\n",
       "      <td>Saint-Michel</td>\n",
       "    </tr>\n",
       "    <tr>\n",
       "      <th>...</th>\n",
       "      <td>...</td>\n",
       "      <td>...</td>\n",
       "      <td>...</td>\n",
       "      <td>...</td>\n",
       "      <td>...</td>\n",
       "      <td>...</td>\n",
       "      <td>...</td>\n",
       "      <td>...</td>\n",
       "      <td>...</td>\n",
       "      <td>...</td>\n",
       "    </tr>\n",
       "    <tr>\n",
       "      <th>136108</th>\n",
       "      <td>Vol de véhicule à moteur</td>\n",
       "      <td>2020-03-25</td>\n",
       "      <td>jour</td>\n",
       "      <td>-73.752, 45.452</td>\n",
       "      <td>H4Y 1G6</td>\n",
       "      <td>DORVAL</td>\n",
       "      <td>H4Y</td>\n",
       "      <td>DorvalCentral (YUL)</td>\n",
       "      <td>[Dorval, Central (YUL)]</td>\n",
       "      <td>Dorval</td>\n",
       "    </tr>\n",
       "    <tr>\n",
       "      <th>136109</th>\n",
       "      <td>Vol de véhicule à moteur</td>\n",
       "      <td>2020-03-27</td>\n",
       "      <td>soir</td>\n",
       "      <td>-73.752, 45.452</td>\n",
       "      <td>H4Y 1G6</td>\n",
       "      <td>DORVAL</td>\n",
       "      <td>H4Y</td>\n",
       "      <td>DorvalCentral (YUL)</td>\n",
       "      <td>[Dorval, Central (YUL)]</td>\n",
       "      <td>Dorval</td>\n",
       "    </tr>\n",
       "    <tr>\n",
       "      <th>136110</th>\n",
       "      <td>Méfait</td>\n",
       "      <td>2021-04-01</td>\n",
       "      <td>nuit</td>\n",
       "      <td>-73.752, 45.452</td>\n",
       "      <td>H4Y 1G6</td>\n",
       "      <td>DORVAL</td>\n",
       "      <td>H4Y</td>\n",
       "      <td>DorvalCentral (YUL)</td>\n",
       "      <td>[Dorval, Central (YUL)]</td>\n",
       "      <td>Dorval</td>\n",
       "    </tr>\n",
       "    <tr>\n",
       "      <th>136111</th>\n",
       "      <td>Introduction</td>\n",
       "      <td>2021-06-06</td>\n",
       "      <td>soir</td>\n",
       "      <td>-73.752, 45.452</td>\n",
       "      <td>H4Y 1G6</td>\n",
       "      <td>DORVAL</td>\n",
       "      <td>H4Y</td>\n",
       "      <td>DorvalCentral (YUL)</td>\n",
       "      <td>[Dorval, Central (YUL)]</td>\n",
       "      <td>Dorval</td>\n",
       "    </tr>\n",
       "    <tr>\n",
       "      <th>136112</th>\n",
       "      <td>Méfait</td>\n",
       "      <td>2021-06-22</td>\n",
       "      <td>jour</td>\n",
       "      <td>-73.752, 45.452</td>\n",
       "      <td>H4Y 1G6</td>\n",
       "      <td>DORVAL</td>\n",
       "      <td>H4Y</td>\n",
       "      <td>DorvalCentral (YUL)</td>\n",
       "      <td>[Dorval, Central (YUL)]</td>\n",
       "      <td>Dorval</td>\n",
       "    </tr>\n",
       "  </tbody>\n",
       "</table>\n",
       "<p>136113 rows × 10 columns</p>\n",
       "</div>"
      ]
     },
     "metadata": {},
     "execution_count": 56
    }
   ],
   "metadata": {}
  },
  {
   "cell_type": "code",
   "execution_count": 57,
   "source": [
    "df_final.replace({'La':'Lasalle','Downtown Montreal North(Mc':'Downtown Montreal','Place Desjardins':'Downtown Montreal','Tour de la Bourse':'Downtown Montreal'}, inplace=True)"
   ],
   "outputs": [],
   "metadata": {}
  },
  {
   "cell_type": "code",
   "execution_count": 58,
   "source": [
    "df_final.neighbourhood.unique()"
   ],
   "outputs": [
    {
     "output_type": "execute_result",
     "data": {
      "text/plain": [
       "array(['Saint-Michel', 'Saint-Laurent', 'Outremont', 'Montréal-Nord',\n",
       "       \"Dorval / L'Île-Dorval\", 'Centre-Sud', 'Mercier', 'Petite-Patrie',\n",
       "       'Old Montreal', 'Villeray', 'Rosemont', 'Ahuntsic',\n",
       "       'Parc-Extension', 'Cartierville', 'Côte Saint-Luc',\n",
       "       'Pointe-Claire', 'Verdun', 'Hochelaga', 'Saint-Léonard',\n",
       "       'Plateau Mont-Royal', 'Anjou', 'Dollard-des-Ormeaux',\n",
       "       'Notre-Dame-de-Grâce', 'Maisonneuve', 'Westmount',\n",
       "       'Rivière-des-Prairies', 'Lachine',\n",
       "       'Griffintown(Includes Île Notre-Dame & Île Sainte-Hélène)(Université de Montréal)',\n",
       "       'Saint-Michel,East', 'Ville Émard', \"L'Île-Bizard\",\n",
       "       'Downtown Montreal', 'Saint-Henri', 'Hampstead / Côte Saint-Luc',\n",
       "       'Pointe-Saint-Charles', 'Pierrefonds-Roxboro', 'Montreal East',\n",
       "       'Pierrefonds', 'Lasalle', 'Pointe-aux-Trembles', 'Dorval',\n",
       "       'Sainte-Geneviève / Pierrefonds', 'Côte-des-Neiges',\n",
       "       \"L'Île-Des-Soeurs\", 'Kirkland', 'Montreal West', 'Mount Royal',\n",
       "       'Petite-Bourgogne', 'Senneville', 'Beaconsfield',\n",
       "       'Sainte-Anne-De-Bellevue'], dtype=object)"
      ]
     },
     "metadata": {},
     "execution_count": 58
    }
   ],
   "metadata": {}
  },
  {
   "cell_type": "code",
   "execution_count": 59,
   "source": [
    "df_final"
   ],
   "outputs": [
    {
     "output_type": "execute_result",
     "data": {
      "text/plain": [
       "                       categorie        date quart         long lat  \\\n",
       "0       Vol de véhicule à moteur  2018-09-13  jour  -73.626, 45.567   \n",
       "1       Vol de véhicule à moteur  2018-04-30  jour  -73.626, 45.567   \n",
       "2                   Introduction  2018-01-10  jour  -73.629, 45.569   \n",
       "3                         Méfait  2018-11-12  soir  -73.629, 45.569   \n",
       "4                         Méfait  2018-08-15  jour  -73.629, 45.569   \n",
       "...                          ...         ...   ...              ...   \n",
       "136108  Vol de véhicule à moteur  2020-03-25  jour  -73.752, 45.452   \n",
       "136109  Vol de véhicule à moteur  2020-03-27  soir  -73.752, 45.452   \n",
       "136110                    Méfait  2021-04-01  nuit  -73.752, 45.452   \n",
       "136111              Introduction  2021-06-06  soir  -73.752, 45.452   \n",
       "136112                    Méfait  2021-06-22  jour  -73.752, 45.452   \n",
       "\n",
       "       postal_code      city postal codes              borough  \\\n",
       "0          H1Z 1S9  MONTREAL          H1Z     Saint-MichelWest   \n",
       "1          H1Z 1S9  MONTREAL          H1Z     Saint-MichelWest   \n",
       "2          H1Z 2V6  MONTREAL          H1Z     Saint-MichelWest   \n",
       "3          H1Z 2V6  MONTREAL          H1Z     Saint-MichelWest   \n",
       "4          H1Z 2V6  MONTREAL          H1Z     Saint-MichelWest   \n",
       "...            ...       ...          ...                  ...   \n",
       "136108     H4Y 1G6    DORVAL          H4Y  DorvalCentral (YUL)   \n",
       "136109     H4Y 1G6    DORVAL          H4Y  DorvalCentral (YUL)   \n",
       "136110     H4Y 1G6    DORVAL          H4Y  DorvalCentral (YUL)   \n",
       "136111     H4Y 1G6    DORVAL          H4Y  DorvalCentral (YUL)   \n",
       "136112     H4Y 1G6    DORVAL          H4Y  DorvalCentral (YUL)   \n",
       "\n",
       "                       borough1 neighbourhood  \n",
       "0          [Saint-Michel, West]  Saint-Michel  \n",
       "1          [Saint-Michel, West]  Saint-Michel  \n",
       "2          [Saint-Michel, West]  Saint-Michel  \n",
       "3          [Saint-Michel, West]  Saint-Michel  \n",
       "4          [Saint-Michel, West]  Saint-Michel  \n",
       "...                         ...           ...  \n",
       "136108  [Dorval, Central (YUL)]        Dorval  \n",
       "136109  [Dorval, Central (YUL)]        Dorval  \n",
       "136110  [Dorval, Central (YUL)]        Dorval  \n",
       "136111  [Dorval, Central (YUL)]        Dorval  \n",
       "136112  [Dorval, Central (YUL)]        Dorval  \n",
       "\n",
       "[136113 rows x 10 columns]"
      ],
      "text/html": [
       "<div>\n",
       "<style scoped>\n",
       "    .dataframe tbody tr th:only-of-type {\n",
       "        vertical-align: middle;\n",
       "    }\n",
       "\n",
       "    .dataframe tbody tr th {\n",
       "        vertical-align: top;\n",
       "    }\n",
       "\n",
       "    .dataframe thead th {\n",
       "        text-align: right;\n",
       "    }\n",
       "</style>\n",
       "<table border=\"1\" class=\"dataframe\">\n",
       "  <thead>\n",
       "    <tr style=\"text-align: right;\">\n",
       "      <th></th>\n",
       "      <th>categorie</th>\n",
       "      <th>date</th>\n",
       "      <th>quart</th>\n",
       "      <th>long lat</th>\n",
       "      <th>postal_code</th>\n",
       "      <th>city</th>\n",
       "      <th>postal codes</th>\n",
       "      <th>borough</th>\n",
       "      <th>borough1</th>\n",
       "      <th>neighbourhood</th>\n",
       "    </tr>\n",
       "  </thead>\n",
       "  <tbody>\n",
       "    <tr>\n",
       "      <th>0</th>\n",
       "      <td>Vol de véhicule à moteur</td>\n",
       "      <td>2018-09-13</td>\n",
       "      <td>jour</td>\n",
       "      <td>-73.626, 45.567</td>\n",
       "      <td>H1Z 1S9</td>\n",
       "      <td>MONTREAL</td>\n",
       "      <td>H1Z</td>\n",
       "      <td>Saint-MichelWest</td>\n",
       "      <td>[Saint-Michel, West]</td>\n",
       "      <td>Saint-Michel</td>\n",
       "    </tr>\n",
       "    <tr>\n",
       "      <th>1</th>\n",
       "      <td>Vol de véhicule à moteur</td>\n",
       "      <td>2018-04-30</td>\n",
       "      <td>jour</td>\n",
       "      <td>-73.626, 45.567</td>\n",
       "      <td>H1Z 1S9</td>\n",
       "      <td>MONTREAL</td>\n",
       "      <td>H1Z</td>\n",
       "      <td>Saint-MichelWest</td>\n",
       "      <td>[Saint-Michel, West]</td>\n",
       "      <td>Saint-Michel</td>\n",
       "    </tr>\n",
       "    <tr>\n",
       "      <th>2</th>\n",
       "      <td>Introduction</td>\n",
       "      <td>2018-01-10</td>\n",
       "      <td>jour</td>\n",
       "      <td>-73.629, 45.569</td>\n",
       "      <td>H1Z 2V6</td>\n",
       "      <td>MONTREAL</td>\n",
       "      <td>H1Z</td>\n",
       "      <td>Saint-MichelWest</td>\n",
       "      <td>[Saint-Michel, West]</td>\n",
       "      <td>Saint-Michel</td>\n",
       "    </tr>\n",
       "    <tr>\n",
       "      <th>3</th>\n",
       "      <td>Méfait</td>\n",
       "      <td>2018-11-12</td>\n",
       "      <td>soir</td>\n",
       "      <td>-73.629, 45.569</td>\n",
       "      <td>H1Z 2V6</td>\n",
       "      <td>MONTREAL</td>\n",
       "      <td>H1Z</td>\n",
       "      <td>Saint-MichelWest</td>\n",
       "      <td>[Saint-Michel, West]</td>\n",
       "      <td>Saint-Michel</td>\n",
       "    </tr>\n",
       "    <tr>\n",
       "      <th>4</th>\n",
       "      <td>Méfait</td>\n",
       "      <td>2018-08-15</td>\n",
       "      <td>jour</td>\n",
       "      <td>-73.629, 45.569</td>\n",
       "      <td>H1Z 2V6</td>\n",
       "      <td>MONTREAL</td>\n",
       "      <td>H1Z</td>\n",
       "      <td>Saint-MichelWest</td>\n",
       "      <td>[Saint-Michel, West]</td>\n",
       "      <td>Saint-Michel</td>\n",
       "    </tr>\n",
       "    <tr>\n",
       "      <th>...</th>\n",
       "      <td>...</td>\n",
       "      <td>...</td>\n",
       "      <td>...</td>\n",
       "      <td>...</td>\n",
       "      <td>...</td>\n",
       "      <td>...</td>\n",
       "      <td>...</td>\n",
       "      <td>...</td>\n",
       "      <td>...</td>\n",
       "      <td>...</td>\n",
       "    </tr>\n",
       "    <tr>\n",
       "      <th>136108</th>\n",
       "      <td>Vol de véhicule à moteur</td>\n",
       "      <td>2020-03-25</td>\n",
       "      <td>jour</td>\n",
       "      <td>-73.752, 45.452</td>\n",
       "      <td>H4Y 1G6</td>\n",
       "      <td>DORVAL</td>\n",
       "      <td>H4Y</td>\n",
       "      <td>DorvalCentral (YUL)</td>\n",
       "      <td>[Dorval, Central (YUL)]</td>\n",
       "      <td>Dorval</td>\n",
       "    </tr>\n",
       "    <tr>\n",
       "      <th>136109</th>\n",
       "      <td>Vol de véhicule à moteur</td>\n",
       "      <td>2020-03-27</td>\n",
       "      <td>soir</td>\n",
       "      <td>-73.752, 45.452</td>\n",
       "      <td>H4Y 1G6</td>\n",
       "      <td>DORVAL</td>\n",
       "      <td>H4Y</td>\n",
       "      <td>DorvalCentral (YUL)</td>\n",
       "      <td>[Dorval, Central (YUL)]</td>\n",
       "      <td>Dorval</td>\n",
       "    </tr>\n",
       "    <tr>\n",
       "      <th>136110</th>\n",
       "      <td>Méfait</td>\n",
       "      <td>2021-04-01</td>\n",
       "      <td>nuit</td>\n",
       "      <td>-73.752, 45.452</td>\n",
       "      <td>H4Y 1G6</td>\n",
       "      <td>DORVAL</td>\n",
       "      <td>H4Y</td>\n",
       "      <td>DorvalCentral (YUL)</td>\n",
       "      <td>[Dorval, Central (YUL)]</td>\n",
       "      <td>Dorval</td>\n",
       "    </tr>\n",
       "    <tr>\n",
       "      <th>136111</th>\n",
       "      <td>Introduction</td>\n",
       "      <td>2021-06-06</td>\n",
       "      <td>soir</td>\n",
       "      <td>-73.752, 45.452</td>\n",
       "      <td>H4Y 1G6</td>\n",
       "      <td>DORVAL</td>\n",
       "      <td>H4Y</td>\n",
       "      <td>DorvalCentral (YUL)</td>\n",
       "      <td>[Dorval, Central (YUL)]</td>\n",
       "      <td>Dorval</td>\n",
       "    </tr>\n",
       "    <tr>\n",
       "      <th>136112</th>\n",
       "      <td>Méfait</td>\n",
       "      <td>2021-06-22</td>\n",
       "      <td>jour</td>\n",
       "      <td>-73.752, 45.452</td>\n",
       "      <td>H4Y 1G6</td>\n",
       "      <td>DORVAL</td>\n",
       "      <td>H4Y</td>\n",
       "      <td>DorvalCentral (YUL)</td>\n",
       "      <td>[Dorval, Central (YUL)]</td>\n",
       "      <td>Dorval</td>\n",
       "    </tr>\n",
       "  </tbody>\n",
       "</table>\n",
       "<p>136113 rows × 10 columns</p>\n",
       "</div>"
      ]
     },
     "metadata": {},
     "execution_count": 59
    }
   ],
   "metadata": {}
  },
  {
   "cell_type": "code",
   "execution_count": 60,
   "source": [
    "df_eng = df_final.copy()\n",
    "df_eng.head()"
   ],
   "outputs": [
    {
     "output_type": "execute_result",
     "data": {
      "text/plain": [
       "                  categorie        date quart         long lat postal_code  \\\n",
       "0  Vol de véhicule à moteur  2018-09-13  jour  -73.626, 45.567     H1Z 1S9   \n",
       "1  Vol de véhicule à moteur  2018-04-30  jour  -73.626, 45.567     H1Z 1S9   \n",
       "2              Introduction  2018-01-10  jour  -73.629, 45.569     H1Z 2V6   \n",
       "3                    Méfait  2018-11-12  soir  -73.629, 45.569     H1Z 2V6   \n",
       "4                    Méfait  2018-08-15  jour  -73.629, 45.569     H1Z 2V6   \n",
       "\n",
       "       city postal codes           borough              borough1 neighbourhood  \n",
       "0  MONTREAL          H1Z  Saint-MichelWest  [Saint-Michel, West]  Saint-Michel  \n",
       "1  MONTREAL          H1Z  Saint-MichelWest  [Saint-Michel, West]  Saint-Michel  \n",
       "2  MONTREAL          H1Z  Saint-MichelWest  [Saint-Michel, West]  Saint-Michel  \n",
       "3  MONTREAL          H1Z  Saint-MichelWest  [Saint-Michel, West]  Saint-Michel  \n",
       "4  MONTREAL          H1Z  Saint-MichelWest  [Saint-Michel, West]  Saint-Michel  "
      ],
      "text/html": [
       "<div>\n",
       "<style scoped>\n",
       "    .dataframe tbody tr th:only-of-type {\n",
       "        vertical-align: middle;\n",
       "    }\n",
       "\n",
       "    .dataframe tbody tr th {\n",
       "        vertical-align: top;\n",
       "    }\n",
       "\n",
       "    .dataframe thead th {\n",
       "        text-align: right;\n",
       "    }\n",
       "</style>\n",
       "<table border=\"1\" class=\"dataframe\">\n",
       "  <thead>\n",
       "    <tr style=\"text-align: right;\">\n",
       "      <th></th>\n",
       "      <th>categorie</th>\n",
       "      <th>date</th>\n",
       "      <th>quart</th>\n",
       "      <th>long lat</th>\n",
       "      <th>postal_code</th>\n",
       "      <th>city</th>\n",
       "      <th>postal codes</th>\n",
       "      <th>borough</th>\n",
       "      <th>borough1</th>\n",
       "      <th>neighbourhood</th>\n",
       "    </tr>\n",
       "  </thead>\n",
       "  <tbody>\n",
       "    <tr>\n",
       "      <th>0</th>\n",
       "      <td>Vol de véhicule à moteur</td>\n",
       "      <td>2018-09-13</td>\n",
       "      <td>jour</td>\n",
       "      <td>-73.626, 45.567</td>\n",
       "      <td>H1Z 1S9</td>\n",
       "      <td>MONTREAL</td>\n",
       "      <td>H1Z</td>\n",
       "      <td>Saint-MichelWest</td>\n",
       "      <td>[Saint-Michel, West]</td>\n",
       "      <td>Saint-Michel</td>\n",
       "    </tr>\n",
       "    <tr>\n",
       "      <th>1</th>\n",
       "      <td>Vol de véhicule à moteur</td>\n",
       "      <td>2018-04-30</td>\n",
       "      <td>jour</td>\n",
       "      <td>-73.626, 45.567</td>\n",
       "      <td>H1Z 1S9</td>\n",
       "      <td>MONTREAL</td>\n",
       "      <td>H1Z</td>\n",
       "      <td>Saint-MichelWest</td>\n",
       "      <td>[Saint-Michel, West]</td>\n",
       "      <td>Saint-Michel</td>\n",
       "    </tr>\n",
       "    <tr>\n",
       "      <th>2</th>\n",
       "      <td>Introduction</td>\n",
       "      <td>2018-01-10</td>\n",
       "      <td>jour</td>\n",
       "      <td>-73.629, 45.569</td>\n",
       "      <td>H1Z 2V6</td>\n",
       "      <td>MONTREAL</td>\n",
       "      <td>H1Z</td>\n",
       "      <td>Saint-MichelWest</td>\n",
       "      <td>[Saint-Michel, West]</td>\n",
       "      <td>Saint-Michel</td>\n",
       "    </tr>\n",
       "    <tr>\n",
       "      <th>3</th>\n",
       "      <td>Méfait</td>\n",
       "      <td>2018-11-12</td>\n",
       "      <td>soir</td>\n",
       "      <td>-73.629, 45.569</td>\n",
       "      <td>H1Z 2V6</td>\n",
       "      <td>MONTREAL</td>\n",
       "      <td>H1Z</td>\n",
       "      <td>Saint-MichelWest</td>\n",
       "      <td>[Saint-Michel, West]</td>\n",
       "      <td>Saint-Michel</td>\n",
       "    </tr>\n",
       "    <tr>\n",
       "      <th>4</th>\n",
       "      <td>Méfait</td>\n",
       "      <td>2018-08-15</td>\n",
       "      <td>jour</td>\n",
       "      <td>-73.629, 45.569</td>\n",
       "      <td>H1Z 2V6</td>\n",
       "      <td>MONTREAL</td>\n",
       "      <td>H1Z</td>\n",
       "      <td>Saint-MichelWest</td>\n",
       "      <td>[Saint-Michel, West]</td>\n",
       "      <td>Saint-Michel</td>\n",
       "    </tr>\n",
       "  </tbody>\n",
       "</table>\n",
       "</div>"
      ]
     },
     "metadata": {},
     "execution_count": 60
    }
   ],
   "metadata": {}
  },
  {
   "cell_type": "code",
   "execution_count": 61,
   "source": [
    "df_eng.drop(columns=['borough','borough1'], inplace=True)"
   ],
   "outputs": [],
   "metadata": {}
  },
  {
   "cell_type": "code",
   "execution_count": 62,
   "source": [
    "df_eng['categorie'].replace({'Vol de véhicule à moteur':'Motor vehicle theft',\n",
    "                                                    'Introduction':'Home Invasion',\n",
    "                                                    'Méfait':'Mischief',\n",
    "                                                    'Vol dans / sur véhicule à moteur':'Theft in / from a motor vehicle',\n",
    "                                                    'Vols qualifiés':'Confirmed Theft',\n",
    "                                                    'Infractions entrainant la mort':'Offenses resulting in death'}, inplace=True)"
   ],
   "outputs": [],
   "metadata": {}
  },
  {
   "cell_type": "code",
   "execution_count": 63,
   "source": [
    "df_eng.categorie.unique()"
   ],
   "outputs": [
    {
     "output_type": "execute_result",
     "data": {
      "text/plain": [
       "array(['Motor vehicle theft', 'Home Invasion', 'Mischief',\n",
       "       'Theft in / from a motor vehicle', 'Confirmed Theft',\n",
       "       'Offenses resulting in death'], dtype=object)"
      ]
     },
     "metadata": {},
     "execution_count": 63
    }
   ],
   "metadata": {}
  },
  {
   "cell_type": "code",
   "execution_count": 64,
   "source": [
    "def post_look_up(postal):\n",
    "    postal = postal.upper()\n",
    "    postal_df = df_eng.loc[df_eng['postal codes'] == postal]\n",
    "    return postal_df.groupby('categorie')['neighbourhood'].count()"
   ],
   "outputs": [],
   "metadata": {}
  },
  {
   "cell_type": "code",
   "execution_count": 65,
   "source": [
    "post_look_up('h3g')"
   ],
   "outputs": [
    {
     "output_type": "execute_result",
     "data": {
      "text/plain": [
       "categorie\n",
       "Confirmed Theft                    112\n",
       "Home Invasion                      389\n",
       "Mischief                           395\n",
       "Motor vehicle theft                 71\n",
       "Offenses resulting in death          1\n",
       "Theft in / from a motor vehicle    972\n",
       "Name: neighbourhood, dtype: int64"
      ]
     },
     "metadata": {},
     "execution_count": 65
    }
   ],
   "metadata": {}
  },
  {
   "cell_type": "code",
   "execution_count": 66,
   "source": [
    "df_eng.loc[df_eng['postal codes'] == 'H4B']"
   ],
   "outputs": [
    {
     "output_type": "execute_result",
     "data": {
      "text/plain": [
       "                              categorie        date quart         long lat  \\\n",
       "100357  Theft in / from a motor vehicle  2018-09-19  jour  -73.638, 45.462   \n",
       "100358              Motor vehicle theft  2018-07-11  jour  -73.635, 45.461   \n",
       "100359  Theft in / from a motor vehicle  2016-08-25  jour  -73.632, 45.469   \n",
       "100360                    Home Invasion  2016-06-19  jour  -73.632, 45.469   \n",
       "100361                         Mischief  2017-02-08  jour  -73.629, 45.467   \n",
       "...                                 ...         ...   ...              ...   \n",
       "101352                    Home Invasion  2021-01-27  jour  -73.626, 45.462   \n",
       "101353                    Home Invasion  2021-02-16  jour  -73.626, 45.462   \n",
       "101354  Theft in / from a motor vehicle  2021-04-12  jour  -73.626, 45.462   \n",
       "101355                    Home Invasion  2021-02-16  jour  -73.626, 45.462   \n",
       "101356                    Home Invasion  2021-04-12  jour  -73.626, 45.462   \n",
       "\n",
       "       postal_code      city postal codes        neighbourhood  \n",
       "100357     H4B 2E9  MONTREAL          H4B  Notre-Dame-de-Grâce  \n",
       "100358     H4B 2G8  MONTREAL          H4B  Notre-Dame-de-Grâce  \n",
       "100359     H4B 2W3  MONTREAL          H4B  Notre-Dame-de-Grâce  \n",
       "100360     H4B 2W3  MONTREAL          H4B  Notre-Dame-de-Grâce  \n",
       "100361     H4B 2T9  MONTREAL          H4B  Notre-Dame-de-Grâce  \n",
       "...            ...       ...          ...                  ...  \n",
       "101352     H4B 2Z6  MONTREAL          H4B  Notre-Dame-de-Grâce  \n",
       "101353     H4B 2Z6  MONTREAL          H4B  Notre-Dame-de-Grâce  \n",
       "101354     H4B 2Z6  MONTREAL          H4B  Notre-Dame-de-Grâce  \n",
       "101355     H4B 2Z6  MONTREAL          H4B  Notre-Dame-de-Grâce  \n",
       "101356     H4B 2Z6  MONTREAL          H4B  Notre-Dame-de-Grâce  \n",
       "\n",
       "[1000 rows x 8 columns]"
      ],
      "text/html": [
       "<div>\n",
       "<style scoped>\n",
       "    .dataframe tbody tr th:only-of-type {\n",
       "        vertical-align: middle;\n",
       "    }\n",
       "\n",
       "    .dataframe tbody tr th {\n",
       "        vertical-align: top;\n",
       "    }\n",
       "\n",
       "    .dataframe thead th {\n",
       "        text-align: right;\n",
       "    }\n",
       "</style>\n",
       "<table border=\"1\" class=\"dataframe\">\n",
       "  <thead>\n",
       "    <tr style=\"text-align: right;\">\n",
       "      <th></th>\n",
       "      <th>categorie</th>\n",
       "      <th>date</th>\n",
       "      <th>quart</th>\n",
       "      <th>long lat</th>\n",
       "      <th>postal_code</th>\n",
       "      <th>city</th>\n",
       "      <th>postal codes</th>\n",
       "      <th>neighbourhood</th>\n",
       "    </tr>\n",
       "  </thead>\n",
       "  <tbody>\n",
       "    <tr>\n",
       "      <th>100357</th>\n",
       "      <td>Theft in / from a motor vehicle</td>\n",
       "      <td>2018-09-19</td>\n",
       "      <td>jour</td>\n",
       "      <td>-73.638, 45.462</td>\n",
       "      <td>H4B 2E9</td>\n",
       "      <td>MONTREAL</td>\n",
       "      <td>H4B</td>\n",
       "      <td>Notre-Dame-de-Grâce</td>\n",
       "    </tr>\n",
       "    <tr>\n",
       "      <th>100358</th>\n",
       "      <td>Motor vehicle theft</td>\n",
       "      <td>2018-07-11</td>\n",
       "      <td>jour</td>\n",
       "      <td>-73.635, 45.461</td>\n",
       "      <td>H4B 2G8</td>\n",
       "      <td>MONTREAL</td>\n",
       "      <td>H4B</td>\n",
       "      <td>Notre-Dame-de-Grâce</td>\n",
       "    </tr>\n",
       "    <tr>\n",
       "      <th>100359</th>\n",
       "      <td>Theft in / from a motor vehicle</td>\n",
       "      <td>2016-08-25</td>\n",
       "      <td>jour</td>\n",
       "      <td>-73.632, 45.469</td>\n",
       "      <td>H4B 2W3</td>\n",
       "      <td>MONTREAL</td>\n",
       "      <td>H4B</td>\n",
       "      <td>Notre-Dame-de-Grâce</td>\n",
       "    </tr>\n",
       "    <tr>\n",
       "      <th>100360</th>\n",
       "      <td>Home Invasion</td>\n",
       "      <td>2016-06-19</td>\n",
       "      <td>jour</td>\n",
       "      <td>-73.632, 45.469</td>\n",
       "      <td>H4B 2W3</td>\n",
       "      <td>MONTREAL</td>\n",
       "      <td>H4B</td>\n",
       "      <td>Notre-Dame-de-Grâce</td>\n",
       "    </tr>\n",
       "    <tr>\n",
       "      <th>100361</th>\n",
       "      <td>Mischief</td>\n",
       "      <td>2017-02-08</td>\n",
       "      <td>jour</td>\n",
       "      <td>-73.629, 45.467</td>\n",
       "      <td>H4B 2T9</td>\n",
       "      <td>MONTREAL</td>\n",
       "      <td>H4B</td>\n",
       "      <td>Notre-Dame-de-Grâce</td>\n",
       "    </tr>\n",
       "    <tr>\n",
       "      <th>...</th>\n",
       "      <td>...</td>\n",
       "      <td>...</td>\n",
       "      <td>...</td>\n",
       "      <td>...</td>\n",
       "      <td>...</td>\n",
       "      <td>...</td>\n",
       "      <td>...</td>\n",
       "      <td>...</td>\n",
       "    </tr>\n",
       "    <tr>\n",
       "      <th>101352</th>\n",
       "      <td>Home Invasion</td>\n",
       "      <td>2021-01-27</td>\n",
       "      <td>jour</td>\n",
       "      <td>-73.626, 45.462</td>\n",
       "      <td>H4B 2Z6</td>\n",
       "      <td>MONTREAL</td>\n",
       "      <td>H4B</td>\n",
       "      <td>Notre-Dame-de-Grâce</td>\n",
       "    </tr>\n",
       "    <tr>\n",
       "      <th>101353</th>\n",
       "      <td>Home Invasion</td>\n",
       "      <td>2021-02-16</td>\n",
       "      <td>jour</td>\n",
       "      <td>-73.626, 45.462</td>\n",
       "      <td>H4B 2Z6</td>\n",
       "      <td>MONTREAL</td>\n",
       "      <td>H4B</td>\n",
       "      <td>Notre-Dame-de-Grâce</td>\n",
       "    </tr>\n",
       "    <tr>\n",
       "      <th>101354</th>\n",
       "      <td>Theft in / from a motor vehicle</td>\n",
       "      <td>2021-04-12</td>\n",
       "      <td>jour</td>\n",
       "      <td>-73.626, 45.462</td>\n",
       "      <td>H4B 2Z6</td>\n",
       "      <td>MONTREAL</td>\n",
       "      <td>H4B</td>\n",
       "      <td>Notre-Dame-de-Grâce</td>\n",
       "    </tr>\n",
       "    <tr>\n",
       "      <th>101355</th>\n",
       "      <td>Home Invasion</td>\n",
       "      <td>2021-02-16</td>\n",
       "      <td>jour</td>\n",
       "      <td>-73.626, 45.462</td>\n",
       "      <td>H4B 2Z6</td>\n",
       "      <td>MONTREAL</td>\n",
       "      <td>H4B</td>\n",
       "      <td>Notre-Dame-de-Grâce</td>\n",
       "    </tr>\n",
       "    <tr>\n",
       "      <th>101356</th>\n",
       "      <td>Home Invasion</td>\n",
       "      <td>2021-04-12</td>\n",
       "      <td>jour</td>\n",
       "      <td>-73.626, 45.462</td>\n",
       "      <td>H4B 2Z6</td>\n",
       "      <td>MONTREAL</td>\n",
       "      <td>H4B</td>\n",
       "      <td>Notre-Dame-de-Grâce</td>\n",
       "    </tr>\n",
       "  </tbody>\n",
       "</table>\n",
       "<p>1000 rows × 8 columns</p>\n",
       "</div>"
      ]
     },
     "metadata": {},
     "execution_count": 66
    }
   ],
   "metadata": {}
  },
  {
   "cell_type": "code",
   "execution_count": 67,
   "source": [
    "df_eng['year'] = df_eng['date'].str.slice(0,4)\n",
    "df_eng.head()"
   ],
   "outputs": [
    {
     "output_type": "execute_result",
     "data": {
      "text/plain": [
       "             categorie        date quart         long lat postal_code  \\\n",
       "0  Motor vehicle theft  2018-09-13  jour  -73.626, 45.567     H1Z 1S9   \n",
       "1  Motor vehicle theft  2018-04-30  jour  -73.626, 45.567     H1Z 1S9   \n",
       "2        Home Invasion  2018-01-10  jour  -73.629, 45.569     H1Z 2V6   \n",
       "3             Mischief  2018-11-12  soir  -73.629, 45.569     H1Z 2V6   \n",
       "4             Mischief  2018-08-15  jour  -73.629, 45.569     H1Z 2V6   \n",
       "\n",
       "       city postal codes neighbourhood  year  \n",
       "0  MONTREAL          H1Z  Saint-Michel  2018  \n",
       "1  MONTREAL          H1Z  Saint-Michel  2018  \n",
       "2  MONTREAL          H1Z  Saint-Michel  2018  \n",
       "3  MONTREAL          H1Z  Saint-Michel  2018  \n",
       "4  MONTREAL          H1Z  Saint-Michel  2018  "
      ],
      "text/html": [
       "<div>\n",
       "<style scoped>\n",
       "    .dataframe tbody tr th:only-of-type {\n",
       "        vertical-align: middle;\n",
       "    }\n",
       "\n",
       "    .dataframe tbody tr th {\n",
       "        vertical-align: top;\n",
       "    }\n",
       "\n",
       "    .dataframe thead th {\n",
       "        text-align: right;\n",
       "    }\n",
       "</style>\n",
       "<table border=\"1\" class=\"dataframe\">\n",
       "  <thead>\n",
       "    <tr style=\"text-align: right;\">\n",
       "      <th></th>\n",
       "      <th>categorie</th>\n",
       "      <th>date</th>\n",
       "      <th>quart</th>\n",
       "      <th>long lat</th>\n",
       "      <th>postal_code</th>\n",
       "      <th>city</th>\n",
       "      <th>postal codes</th>\n",
       "      <th>neighbourhood</th>\n",
       "      <th>year</th>\n",
       "    </tr>\n",
       "  </thead>\n",
       "  <tbody>\n",
       "    <tr>\n",
       "      <th>0</th>\n",
       "      <td>Motor vehicle theft</td>\n",
       "      <td>2018-09-13</td>\n",
       "      <td>jour</td>\n",
       "      <td>-73.626, 45.567</td>\n",
       "      <td>H1Z 1S9</td>\n",
       "      <td>MONTREAL</td>\n",
       "      <td>H1Z</td>\n",
       "      <td>Saint-Michel</td>\n",
       "      <td>2018</td>\n",
       "    </tr>\n",
       "    <tr>\n",
       "      <th>1</th>\n",
       "      <td>Motor vehicle theft</td>\n",
       "      <td>2018-04-30</td>\n",
       "      <td>jour</td>\n",
       "      <td>-73.626, 45.567</td>\n",
       "      <td>H1Z 1S9</td>\n",
       "      <td>MONTREAL</td>\n",
       "      <td>H1Z</td>\n",
       "      <td>Saint-Michel</td>\n",
       "      <td>2018</td>\n",
       "    </tr>\n",
       "    <tr>\n",
       "      <th>2</th>\n",
       "      <td>Home Invasion</td>\n",
       "      <td>2018-01-10</td>\n",
       "      <td>jour</td>\n",
       "      <td>-73.629, 45.569</td>\n",
       "      <td>H1Z 2V6</td>\n",
       "      <td>MONTREAL</td>\n",
       "      <td>H1Z</td>\n",
       "      <td>Saint-Michel</td>\n",
       "      <td>2018</td>\n",
       "    </tr>\n",
       "    <tr>\n",
       "      <th>3</th>\n",
       "      <td>Mischief</td>\n",
       "      <td>2018-11-12</td>\n",
       "      <td>soir</td>\n",
       "      <td>-73.629, 45.569</td>\n",
       "      <td>H1Z 2V6</td>\n",
       "      <td>MONTREAL</td>\n",
       "      <td>H1Z</td>\n",
       "      <td>Saint-Michel</td>\n",
       "      <td>2018</td>\n",
       "    </tr>\n",
       "    <tr>\n",
       "      <th>4</th>\n",
       "      <td>Mischief</td>\n",
       "      <td>2018-08-15</td>\n",
       "      <td>jour</td>\n",
       "      <td>-73.629, 45.569</td>\n",
       "      <td>H1Z 2V6</td>\n",
       "      <td>MONTREAL</td>\n",
       "      <td>H1Z</td>\n",
       "      <td>Saint-Michel</td>\n",
       "      <td>2018</td>\n",
       "    </tr>\n",
       "  </tbody>\n",
       "</table>\n",
       "</div>"
      ]
     },
     "metadata": {},
     "execution_count": 67
    }
   ],
   "metadata": {}
  },
  {
   "cell_type": "code",
   "execution_count": 68,
   "source": [
    "def YoY(postal):\n",
    "    postal = postal.upper()\n",
    "    df_year = df_eng.loc[df_eng['postal codes'] == postal]\n",
    "    return df_year.groupby('year')['neighbourhood'].count()\n",
    "\n"
   ],
   "outputs": [],
   "metadata": {}
  },
  {
   "cell_type": "code",
   "execution_count": 69,
   "source": [
    "YoY('H9G')"
   ],
   "outputs": [
    {
     "output_type": "execute_result",
     "data": {
      "text/plain": [
       "year\n",
       "2015    65\n",
       "2016    81\n",
       "2017    53\n",
       "2018    58\n",
       "2019    40\n",
       "2020    49\n",
       "2021    24\n",
       "Name: neighbourhood, dtype: int64"
      ]
     },
     "metadata": {},
     "execution_count": 69
    }
   ],
   "metadata": {}
  },
  {
   "cell_type": "code",
   "execution_count": 70,
   "source": [
    "YoY('H9G').plot(title='YOY Crime Stats')"
   ],
   "outputs": [
    {
     "output_type": "display_data",
     "data": {
      "application/vnd.plotly.v1+json": {
       "config": {
        "plotlyServerURL": "https://plot.ly"
       },
       "data": [
        {
         "hovertemplate": "variable=neighbourhood<br>year=%{x}<br>value=%{y}<extra></extra>",
         "legendgroup": "neighbourhood",
         "line": {
          "color": "#636efa",
          "dash": "solid"
         },
         "marker": {
          "symbol": "circle"
         },
         "mode": "lines",
         "name": "neighbourhood",
         "orientation": "v",
         "showlegend": true,
         "type": "scatter",
         "x": [
          "2015",
          "2016",
          "2017",
          "2018",
          "2019",
          "2020",
          "2021"
         ],
         "xaxis": "x",
         "y": [
          65,
          81,
          53,
          58,
          40,
          49,
          24
         ],
         "yaxis": "y"
        }
       ],
       "layout": {
        "legend": {
         "title": {
          "text": "variable"
         },
         "tracegroupgap": 0
        },
        "template": {
         "data": {
          "bar": [
           {
            "error_x": {
             "color": "#2a3f5f"
            },
            "error_y": {
             "color": "#2a3f5f"
            },
            "marker": {
             "line": {
              "color": "#E5ECF6",
              "width": 0.5
             },
             "pattern": {
              "fillmode": "overlay",
              "size": 10,
              "solidity": 0.2
             }
            },
            "type": "bar"
           }
          ],
          "barpolar": [
           {
            "marker": {
             "line": {
              "color": "#E5ECF6",
              "width": 0.5
             },
             "pattern": {
              "fillmode": "overlay",
              "size": 10,
              "solidity": 0.2
             }
            },
            "type": "barpolar"
           }
          ],
          "carpet": [
           {
            "aaxis": {
             "endlinecolor": "#2a3f5f",
             "gridcolor": "white",
             "linecolor": "white",
             "minorgridcolor": "white",
             "startlinecolor": "#2a3f5f"
            },
            "baxis": {
             "endlinecolor": "#2a3f5f",
             "gridcolor": "white",
             "linecolor": "white",
             "minorgridcolor": "white",
             "startlinecolor": "#2a3f5f"
            },
            "type": "carpet"
           }
          ],
          "choropleth": [
           {
            "colorbar": {
             "outlinewidth": 0,
             "ticks": ""
            },
            "type": "choropleth"
           }
          ],
          "contour": [
           {
            "colorbar": {
             "outlinewidth": 0,
             "ticks": ""
            },
            "colorscale": [
             [
              0,
              "#0d0887"
             ],
             [
              0.1111111111111111,
              "#46039f"
             ],
             [
              0.2222222222222222,
              "#7201a8"
             ],
             [
              0.3333333333333333,
              "#9c179e"
             ],
             [
              0.4444444444444444,
              "#bd3786"
             ],
             [
              0.5555555555555556,
              "#d8576b"
             ],
             [
              0.6666666666666666,
              "#ed7953"
             ],
             [
              0.7777777777777778,
              "#fb9f3a"
             ],
             [
              0.8888888888888888,
              "#fdca26"
             ],
             [
              1,
              "#f0f921"
             ]
            ],
            "type": "contour"
           }
          ],
          "contourcarpet": [
           {
            "colorbar": {
             "outlinewidth": 0,
             "ticks": ""
            },
            "type": "contourcarpet"
           }
          ],
          "heatmap": [
           {
            "colorbar": {
             "outlinewidth": 0,
             "ticks": ""
            },
            "colorscale": [
             [
              0,
              "#0d0887"
             ],
             [
              0.1111111111111111,
              "#46039f"
             ],
             [
              0.2222222222222222,
              "#7201a8"
             ],
             [
              0.3333333333333333,
              "#9c179e"
             ],
             [
              0.4444444444444444,
              "#bd3786"
             ],
             [
              0.5555555555555556,
              "#d8576b"
             ],
             [
              0.6666666666666666,
              "#ed7953"
             ],
             [
              0.7777777777777778,
              "#fb9f3a"
             ],
             [
              0.8888888888888888,
              "#fdca26"
             ],
             [
              1,
              "#f0f921"
             ]
            ],
            "type": "heatmap"
           }
          ],
          "heatmapgl": [
           {
            "colorbar": {
             "outlinewidth": 0,
             "ticks": ""
            },
            "colorscale": [
             [
              0,
              "#0d0887"
             ],
             [
              0.1111111111111111,
              "#46039f"
             ],
             [
              0.2222222222222222,
              "#7201a8"
             ],
             [
              0.3333333333333333,
              "#9c179e"
             ],
             [
              0.4444444444444444,
              "#bd3786"
             ],
             [
              0.5555555555555556,
              "#d8576b"
             ],
             [
              0.6666666666666666,
              "#ed7953"
             ],
             [
              0.7777777777777778,
              "#fb9f3a"
             ],
             [
              0.8888888888888888,
              "#fdca26"
             ],
             [
              1,
              "#f0f921"
             ]
            ],
            "type": "heatmapgl"
           }
          ],
          "histogram": [
           {
            "marker": {
             "pattern": {
              "fillmode": "overlay",
              "size": 10,
              "solidity": 0.2
             }
            },
            "type": "histogram"
           }
          ],
          "histogram2d": [
           {
            "colorbar": {
             "outlinewidth": 0,
             "ticks": ""
            },
            "colorscale": [
             [
              0,
              "#0d0887"
             ],
             [
              0.1111111111111111,
              "#46039f"
             ],
             [
              0.2222222222222222,
              "#7201a8"
             ],
             [
              0.3333333333333333,
              "#9c179e"
             ],
             [
              0.4444444444444444,
              "#bd3786"
             ],
             [
              0.5555555555555556,
              "#d8576b"
             ],
             [
              0.6666666666666666,
              "#ed7953"
             ],
             [
              0.7777777777777778,
              "#fb9f3a"
             ],
             [
              0.8888888888888888,
              "#fdca26"
             ],
             [
              1,
              "#f0f921"
             ]
            ],
            "type": "histogram2d"
           }
          ],
          "histogram2dcontour": [
           {
            "colorbar": {
             "outlinewidth": 0,
             "ticks": ""
            },
            "colorscale": [
             [
              0,
              "#0d0887"
             ],
             [
              0.1111111111111111,
              "#46039f"
             ],
             [
              0.2222222222222222,
              "#7201a8"
             ],
             [
              0.3333333333333333,
              "#9c179e"
             ],
             [
              0.4444444444444444,
              "#bd3786"
             ],
             [
              0.5555555555555556,
              "#d8576b"
             ],
             [
              0.6666666666666666,
              "#ed7953"
             ],
             [
              0.7777777777777778,
              "#fb9f3a"
             ],
             [
              0.8888888888888888,
              "#fdca26"
             ],
             [
              1,
              "#f0f921"
             ]
            ],
            "type": "histogram2dcontour"
           }
          ],
          "mesh3d": [
           {
            "colorbar": {
             "outlinewidth": 0,
             "ticks": ""
            },
            "type": "mesh3d"
           }
          ],
          "parcoords": [
           {
            "line": {
             "colorbar": {
              "outlinewidth": 0,
              "ticks": ""
             }
            },
            "type": "parcoords"
           }
          ],
          "pie": [
           {
            "automargin": true,
            "type": "pie"
           }
          ],
          "scatter": [
           {
            "marker": {
             "colorbar": {
              "outlinewidth": 0,
              "ticks": ""
             }
            },
            "type": "scatter"
           }
          ],
          "scatter3d": [
           {
            "line": {
             "colorbar": {
              "outlinewidth": 0,
              "ticks": ""
             }
            },
            "marker": {
             "colorbar": {
              "outlinewidth": 0,
              "ticks": ""
             }
            },
            "type": "scatter3d"
           }
          ],
          "scattercarpet": [
           {
            "marker": {
             "colorbar": {
              "outlinewidth": 0,
              "ticks": ""
             }
            },
            "type": "scattercarpet"
           }
          ],
          "scattergeo": [
           {
            "marker": {
             "colorbar": {
              "outlinewidth": 0,
              "ticks": ""
             }
            },
            "type": "scattergeo"
           }
          ],
          "scattergl": [
           {
            "marker": {
             "colorbar": {
              "outlinewidth": 0,
              "ticks": ""
             }
            },
            "type": "scattergl"
           }
          ],
          "scattermapbox": [
           {
            "marker": {
             "colorbar": {
              "outlinewidth": 0,
              "ticks": ""
             }
            },
            "type": "scattermapbox"
           }
          ],
          "scatterpolar": [
           {
            "marker": {
             "colorbar": {
              "outlinewidth": 0,
              "ticks": ""
             }
            },
            "type": "scatterpolar"
           }
          ],
          "scatterpolargl": [
           {
            "marker": {
             "colorbar": {
              "outlinewidth": 0,
              "ticks": ""
             }
            },
            "type": "scatterpolargl"
           }
          ],
          "scatterternary": [
           {
            "marker": {
             "colorbar": {
              "outlinewidth": 0,
              "ticks": ""
             }
            },
            "type": "scatterternary"
           }
          ],
          "surface": [
           {
            "colorbar": {
             "outlinewidth": 0,
             "ticks": ""
            },
            "colorscale": [
             [
              0,
              "#0d0887"
             ],
             [
              0.1111111111111111,
              "#46039f"
             ],
             [
              0.2222222222222222,
              "#7201a8"
             ],
             [
              0.3333333333333333,
              "#9c179e"
             ],
             [
              0.4444444444444444,
              "#bd3786"
             ],
             [
              0.5555555555555556,
              "#d8576b"
             ],
             [
              0.6666666666666666,
              "#ed7953"
             ],
             [
              0.7777777777777778,
              "#fb9f3a"
             ],
             [
              0.8888888888888888,
              "#fdca26"
             ],
             [
              1,
              "#f0f921"
             ]
            ],
            "type": "surface"
           }
          ],
          "table": [
           {
            "cells": {
             "fill": {
              "color": "#EBF0F8"
             },
             "line": {
              "color": "white"
             }
            },
            "header": {
             "fill": {
              "color": "#C8D4E3"
             },
             "line": {
              "color": "white"
             }
            },
            "type": "table"
           }
          ]
         },
         "layout": {
          "annotationdefaults": {
           "arrowcolor": "#2a3f5f",
           "arrowhead": 0,
           "arrowwidth": 1
          },
          "autotypenumbers": "strict",
          "coloraxis": {
           "colorbar": {
            "outlinewidth": 0,
            "ticks": ""
           }
          },
          "colorscale": {
           "diverging": [
            [
             0,
             "#8e0152"
            ],
            [
             0.1,
             "#c51b7d"
            ],
            [
             0.2,
             "#de77ae"
            ],
            [
             0.3,
             "#f1b6da"
            ],
            [
             0.4,
             "#fde0ef"
            ],
            [
             0.5,
             "#f7f7f7"
            ],
            [
             0.6,
             "#e6f5d0"
            ],
            [
             0.7,
             "#b8e186"
            ],
            [
             0.8,
             "#7fbc41"
            ],
            [
             0.9,
             "#4d9221"
            ],
            [
             1,
             "#276419"
            ]
           ],
           "sequential": [
            [
             0,
             "#0d0887"
            ],
            [
             0.1111111111111111,
             "#46039f"
            ],
            [
             0.2222222222222222,
             "#7201a8"
            ],
            [
             0.3333333333333333,
             "#9c179e"
            ],
            [
             0.4444444444444444,
             "#bd3786"
            ],
            [
             0.5555555555555556,
             "#d8576b"
            ],
            [
             0.6666666666666666,
             "#ed7953"
            ],
            [
             0.7777777777777778,
             "#fb9f3a"
            ],
            [
             0.8888888888888888,
             "#fdca26"
            ],
            [
             1,
             "#f0f921"
            ]
           ],
           "sequentialminus": [
            [
             0,
             "#0d0887"
            ],
            [
             0.1111111111111111,
             "#46039f"
            ],
            [
             0.2222222222222222,
             "#7201a8"
            ],
            [
             0.3333333333333333,
             "#9c179e"
            ],
            [
             0.4444444444444444,
             "#bd3786"
            ],
            [
             0.5555555555555556,
             "#d8576b"
            ],
            [
             0.6666666666666666,
             "#ed7953"
            ],
            [
             0.7777777777777778,
             "#fb9f3a"
            ],
            [
             0.8888888888888888,
             "#fdca26"
            ],
            [
             1,
             "#f0f921"
            ]
           ]
          },
          "colorway": [
           "#636efa",
           "#EF553B",
           "#00cc96",
           "#ab63fa",
           "#FFA15A",
           "#19d3f3",
           "#FF6692",
           "#B6E880",
           "#FF97FF",
           "#FECB52"
          ],
          "font": {
           "color": "#2a3f5f"
          },
          "geo": {
           "bgcolor": "white",
           "lakecolor": "white",
           "landcolor": "#E5ECF6",
           "showlakes": true,
           "showland": true,
           "subunitcolor": "white"
          },
          "hoverlabel": {
           "align": "left"
          },
          "hovermode": "closest",
          "mapbox": {
           "style": "light"
          },
          "paper_bgcolor": "white",
          "plot_bgcolor": "#E5ECF6",
          "polar": {
           "angularaxis": {
            "gridcolor": "white",
            "linecolor": "white",
            "ticks": ""
           },
           "bgcolor": "#E5ECF6",
           "radialaxis": {
            "gridcolor": "white",
            "linecolor": "white",
            "ticks": ""
           }
          },
          "scene": {
           "xaxis": {
            "backgroundcolor": "#E5ECF6",
            "gridcolor": "white",
            "gridwidth": 2,
            "linecolor": "white",
            "showbackground": true,
            "ticks": "",
            "zerolinecolor": "white"
           },
           "yaxis": {
            "backgroundcolor": "#E5ECF6",
            "gridcolor": "white",
            "gridwidth": 2,
            "linecolor": "white",
            "showbackground": true,
            "ticks": "",
            "zerolinecolor": "white"
           },
           "zaxis": {
            "backgroundcolor": "#E5ECF6",
            "gridcolor": "white",
            "gridwidth": 2,
            "linecolor": "white",
            "showbackground": true,
            "ticks": "",
            "zerolinecolor": "white"
           }
          },
          "shapedefaults": {
           "line": {
            "color": "#2a3f5f"
           }
          },
          "ternary": {
           "aaxis": {
            "gridcolor": "white",
            "linecolor": "white",
            "ticks": ""
           },
           "baxis": {
            "gridcolor": "white",
            "linecolor": "white",
            "ticks": ""
           },
           "bgcolor": "#E5ECF6",
           "caxis": {
            "gridcolor": "white",
            "linecolor": "white",
            "ticks": ""
           }
          },
          "title": {
           "x": 0.05
          },
          "xaxis": {
           "automargin": true,
           "gridcolor": "white",
           "linecolor": "white",
           "ticks": "",
           "title": {
            "standoff": 15
           },
           "zerolinecolor": "white",
           "zerolinewidth": 2
          },
          "yaxis": {
           "automargin": true,
           "gridcolor": "white",
           "linecolor": "white",
           "ticks": "",
           "title": {
            "standoff": 15
           },
           "zerolinecolor": "white",
           "zerolinewidth": 2
          }
         }
        },
        "title": {
         "text": "YOY Crime Stats"
        },
        "xaxis": {
         "anchor": "y",
         "domain": [
          0,
          1
         ],
         "title": {
          "text": "year"
         }
        },
        "yaxis": {
         "anchor": "x",
         "domain": [
          0,
          1
         ],
         "title": {
          "text": "value"
         }
        }
       }
      }
     },
     "metadata": {}
    }
   ],
   "metadata": {}
  },
  {
   "cell_type": "code",
   "execution_count": 71,
   "source": [
    "def crime_by_year(postal_code,year):\n",
    "    df_new = df_eng.loc[(df_eng['postal codes'] == postal_code) & (df_eng['year'] == year)]\n",
    "    return df_new.groupby('categorie')['neighbourhood'].count()\n",
    "    "
   ],
   "outputs": [],
   "metadata": {}
  },
  {
   "cell_type": "code",
   "execution_count": 72,
   "source": [
    "crime_by_year('H3G','2021')"
   ],
   "outputs": [
    {
     "output_type": "execute_result",
     "data": {
      "text/plain": [
       "categorie\n",
       "Confirmed Theft                     7\n",
       "Home Invasion                      24\n",
       "Mischief                           46\n",
       "Motor vehicle theft                11\n",
       "Theft in / from a motor vehicle    33\n",
       "Name: neighbourhood, dtype: int64"
      ]
     },
     "metadata": {},
     "execution_count": 72
    }
   ],
   "metadata": {}
  },
  {
   "cell_type": "code",
   "execution_count": 73,
   "source": [
    "df_eng.rename(columns={'categorie':'category','postal codes':'postal_first_3'}, inplace=True)\n",
    "df_eng.head()"
   ],
   "outputs": [
    {
     "output_type": "execute_result",
     "data": {
      "text/plain": [
       "              category        date quart         long lat postal_code  \\\n",
       "0  Motor vehicle theft  2018-09-13  jour  -73.626, 45.567     H1Z 1S9   \n",
       "1  Motor vehicle theft  2018-04-30  jour  -73.626, 45.567     H1Z 1S9   \n",
       "2        Home Invasion  2018-01-10  jour  -73.629, 45.569     H1Z 2V6   \n",
       "3             Mischief  2018-11-12  soir  -73.629, 45.569     H1Z 2V6   \n",
       "4             Mischief  2018-08-15  jour  -73.629, 45.569     H1Z 2V6   \n",
       "\n",
       "       city postal_first_3 neighbourhood  year  \n",
       "0  MONTREAL            H1Z  Saint-Michel  2018  \n",
       "1  MONTREAL            H1Z  Saint-Michel  2018  \n",
       "2  MONTREAL            H1Z  Saint-Michel  2018  \n",
       "3  MONTREAL            H1Z  Saint-Michel  2018  \n",
       "4  MONTREAL            H1Z  Saint-Michel  2018  "
      ],
      "text/html": [
       "<div>\n",
       "<style scoped>\n",
       "    .dataframe tbody tr th:only-of-type {\n",
       "        vertical-align: middle;\n",
       "    }\n",
       "\n",
       "    .dataframe tbody tr th {\n",
       "        vertical-align: top;\n",
       "    }\n",
       "\n",
       "    .dataframe thead th {\n",
       "        text-align: right;\n",
       "    }\n",
       "</style>\n",
       "<table border=\"1\" class=\"dataframe\">\n",
       "  <thead>\n",
       "    <tr style=\"text-align: right;\">\n",
       "      <th></th>\n",
       "      <th>category</th>\n",
       "      <th>date</th>\n",
       "      <th>quart</th>\n",
       "      <th>long lat</th>\n",
       "      <th>postal_code</th>\n",
       "      <th>city</th>\n",
       "      <th>postal_first_3</th>\n",
       "      <th>neighbourhood</th>\n",
       "      <th>year</th>\n",
       "    </tr>\n",
       "  </thead>\n",
       "  <tbody>\n",
       "    <tr>\n",
       "      <th>0</th>\n",
       "      <td>Motor vehicle theft</td>\n",
       "      <td>2018-09-13</td>\n",
       "      <td>jour</td>\n",
       "      <td>-73.626, 45.567</td>\n",
       "      <td>H1Z 1S9</td>\n",
       "      <td>MONTREAL</td>\n",
       "      <td>H1Z</td>\n",
       "      <td>Saint-Michel</td>\n",
       "      <td>2018</td>\n",
       "    </tr>\n",
       "    <tr>\n",
       "      <th>1</th>\n",
       "      <td>Motor vehicle theft</td>\n",
       "      <td>2018-04-30</td>\n",
       "      <td>jour</td>\n",
       "      <td>-73.626, 45.567</td>\n",
       "      <td>H1Z 1S9</td>\n",
       "      <td>MONTREAL</td>\n",
       "      <td>H1Z</td>\n",
       "      <td>Saint-Michel</td>\n",
       "      <td>2018</td>\n",
       "    </tr>\n",
       "    <tr>\n",
       "      <th>2</th>\n",
       "      <td>Home Invasion</td>\n",
       "      <td>2018-01-10</td>\n",
       "      <td>jour</td>\n",
       "      <td>-73.629, 45.569</td>\n",
       "      <td>H1Z 2V6</td>\n",
       "      <td>MONTREAL</td>\n",
       "      <td>H1Z</td>\n",
       "      <td>Saint-Michel</td>\n",
       "      <td>2018</td>\n",
       "    </tr>\n",
       "    <tr>\n",
       "      <th>3</th>\n",
       "      <td>Mischief</td>\n",
       "      <td>2018-11-12</td>\n",
       "      <td>soir</td>\n",
       "      <td>-73.629, 45.569</td>\n",
       "      <td>H1Z 2V6</td>\n",
       "      <td>MONTREAL</td>\n",
       "      <td>H1Z</td>\n",
       "      <td>Saint-Michel</td>\n",
       "      <td>2018</td>\n",
       "    </tr>\n",
       "    <tr>\n",
       "      <th>4</th>\n",
       "      <td>Mischief</td>\n",
       "      <td>2018-08-15</td>\n",
       "      <td>jour</td>\n",
       "      <td>-73.629, 45.569</td>\n",
       "      <td>H1Z 2V6</td>\n",
       "      <td>MONTREAL</td>\n",
       "      <td>H1Z</td>\n",
       "      <td>Saint-Michel</td>\n",
       "      <td>2018</td>\n",
       "    </tr>\n",
       "  </tbody>\n",
       "</table>\n",
       "</div>"
      ]
     },
     "metadata": {},
     "execution_count": 73
    }
   ],
   "metadata": {}
  },
  {
   "cell_type": "code",
   "execution_count": 74,
   "source": [
    "df_eng.to_csv('Crime_db_eng.csv')"
   ],
   "outputs": [],
   "metadata": {}
  },
  {
   "cell_type": "code",
   "execution_count": null,
   "source": [],
   "outputs": [],
   "metadata": {}
  }
 ],
 "metadata": {
  "orig_nbformat": 4,
  "language_info": {
   "name": "python",
   "version": "3.8.11",
   "mimetype": "text/x-python",
   "codemirror_mode": {
    "name": "ipython",
    "version": 3
   },
   "pygments_lexer": "ipython3",
   "nbconvert_exporter": "python",
   "file_extension": ".py"
  },
  "kernelspec": {
   "name": "python3",
   "display_name": "Python 3.8.11 64-bit ('streamlit': conda)"
  },
  "interpreter": {
   "hash": "3bd83ac8235e45f8b5297b6b030da8245414f06b25c56c81bfcbf97f877686ce"
  }
 },
 "nbformat": 4,
 "nbformat_minor": 2
}